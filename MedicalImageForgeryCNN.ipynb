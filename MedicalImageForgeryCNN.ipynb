{
  "nbformat": 4,
  "nbformat_minor": 0,
  "metadata": {
    "colab": {
      "name": "MedicalImageForgeryRE.ipynb",
      "provenance": [],
      "mount_file_id": "17O8zCYybz4oTrOx_LOZZ27odCUh7LWYj",
      "authorship_tag": "ABX9TyO+l3QpgJvJNtiLs7W4LDJ2",
      "include_colab_link": true
    },
    "kernelspec": {
      "name": "python3",
      "display_name": "Python 3"
    },
    "language_info": {
      "name": "python"
    }
  },
  "cells": [
    {
      "cell_type": "markdown",
      "metadata": {
        "id": "view-in-github",
        "colab_type": "text"
      },
      "source": [
        "<a href=\"https://colab.research.google.com/github/Zangetsu112/IVP_Project/blob/master/MedicalImageForgeryCNN.ipynb\" target=\"_parent\"><img src=\"https://colab.research.google.com/assets/colab-badge.svg\" alt=\"Open In Colab\"/></a>"
      ]
    },
    {
      "cell_type": "code",
      "source": [
        "from tensorflow.keras.applications import VGG16\n",
        "conv_base = VGG16(input_shape=(150, 150, 3), include_top=False)\n",
        "conv_base.summary()"
      ],
      "metadata": {
        "colab": {
          "base_uri": "https://localhost:8080/"
        },
        "id": "vhBeYtpXzfCJ",
        "outputId": "542cfb7c-338a-41d9-ae74-c59046f1003f"
      },
      "execution_count": 1,
      "outputs": [
        {
          "output_type": "stream",
          "name": "stdout",
          "text": [
            "Model: \"vgg16\"\n",
            "_________________________________________________________________\n",
            " Layer (type)                Output Shape              Param #   \n",
            "=================================================================\n",
            " input_1 (InputLayer)        [(None, 150, 150, 3)]     0         \n",
            "                                                                 \n",
            " block1_conv1 (Conv2D)       (None, 150, 150, 64)      1792      \n",
            "                                                                 \n",
            " block1_conv2 (Conv2D)       (None, 150, 150, 64)      36928     \n",
            "                                                                 \n",
            " block1_pool (MaxPooling2D)  (None, 75, 75, 64)        0         \n",
            "                                                                 \n",
            " block2_conv1 (Conv2D)       (None, 75, 75, 128)       73856     \n",
            "                                                                 \n",
            " block2_conv2 (Conv2D)       (None, 75, 75, 128)       147584    \n",
            "                                                                 \n",
            " block2_pool (MaxPooling2D)  (None, 37, 37, 128)       0         \n",
            "                                                                 \n",
            " block3_conv1 (Conv2D)       (None, 37, 37, 256)       295168    \n",
            "                                                                 \n",
            " block3_conv2 (Conv2D)       (None, 37, 37, 256)       590080    \n",
            "                                                                 \n",
            " block3_conv3 (Conv2D)       (None, 37, 37, 256)       590080    \n",
            "                                                                 \n",
            " block3_pool (MaxPooling2D)  (None, 18, 18, 256)       0         \n",
            "                                                                 \n",
            " block4_conv1 (Conv2D)       (None, 18, 18, 512)       1180160   \n",
            "                                                                 \n",
            " block4_conv2 (Conv2D)       (None, 18, 18, 512)       2359808   \n",
            "                                                                 \n",
            " block4_conv3 (Conv2D)       (None, 18, 18, 512)       2359808   \n",
            "                                                                 \n",
            " block4_pool (MaxPooling2D)  (None, 9, 9, 512)         0         \n",
            "                                                                 \n",
            " block5_conv1 (Conv2D)       (None, 9, 9, 512)         2359808   \n",
            "                                                                 \n",
            " block5_conv2 (Conv2D)       (None, 9, 9, 512)         2359808   \n",
            "                                                                 \n",
            " block5_conv3 (Conv2D)       (None, 9, 9, 512)         2359808   \n",
            "                                                                 \n",
            " block5_pool (MaxPooling2D)  (None, 4, 4, 512)         0         \n",
            "                                                                 \n",
            "=================================================================\n",
            "Total params: 14,714,688\n",
            "Trainable params: 14,714,688\n",
            "Non-trainable params: 0\n",
            "_________________________________________________________________\n"
          ]
        }
      ]
    },
    {
      "cell_type": "code",
      "source": [
        "import tensorflow as tf \n",
        "\n",
        "base_dir = \"/content/drive/MyDrive/IVP_project/forged_image/\"\n",
        "\n",
        "ds_train = tf.keras.preprocessing.image_dataset_from_directory(\n",
        "    base_dir,\n",
        "    labels='inferred', \n",
        "    label_mode='int',  \n",
        "    image_size=(150, 150), \n",
        "    shuffle=True, \n",
        "    seed=297,\n",
        "    validation_split=0.33,\n",
        "    subset='training' \n",
        ")\n",
        "\n",
        "ds_validation = tf.keras.preprocessing.image_dataset_from_directory(\n",
        "    base_dir, \n",
        "    labels='inferred', \n",
        "    label_mode='int',  \n",
        "    image_size=(150, 150), \n",
        "    shuffle=True, \n",
        "    seed=297,\n",
        "    validation_split=0.33,\n",
        "    subset='validation'\n",
        ")"
      ],
      "metadata": {
        "id": "o1GwJG_c0Bog",
        "colab": {
          "base_uri": "https://localhost:8080/"
        },
        "outputId": "05d534d1-b0cd-45d5-f475-15fb9dcf6fc1"
      },
      "execution_count": 2,
      "outputs": [
        {
          "output_type": "stream",
          "name": "stdout",
          "text": [
            "Found 322 files belonging to 2 classes.\n",
            "Using 216 files for training.\n",
            "Found 322 files belonging to 2 classes.\n",
            "Using 106 files for validation.\n"
          ]
        }
      ]
    },
    {
      "cell_type": "code",
      "source": [
        "import numpy as np \n",
        "batch_size = 32\n",
        "def extract_features(datagen, sample_count):\n",
        "    features = np.zeros(shape=(sample_count, 4, 4, 512)) \n",
        "    labels = np.zeros(shape=(sample_count))    \n",
        "    i = 0\n",
        "    for inputs_batch, labels_batch in datagen:\n",
        "        features_batch = conv_base.predict(inputs_batch)\n",
        "        features[i * batch_size : (i + 1) * batch_size] = features_batch \n",
        "        labels[i * batch_size : (i + 1) * batch_size] = labels_batch\n",
        "        i += 1\n",
        "        if i * batch_size >= sample_count:\n",
        "          break\n",
        "    return features, labels"
      ],
      "metadata": {
        "id": "TMy0peYKAPCY"
      },
      "execution_count": 3,
      "outputs": []
    },
    {
      "cell_type": "code",
      "source": [
        "train_features, train_labels = extract_features(ds_train, 216)\n",
        "validation_features, validation_labels = extract_features(ds_validation, 106)"
      ],
      "metadata": {
        "id": "EZcheBK_IzKi"
      },
      "execution_count": 4,
      "outputs": []
    },
    {
      "cell_type": "code",
      "source": [
        "train_features = np.reshape(train_features, (216, 4 * 4 * 512))\n",
        "validation_features = np.reshape(validation_features, (106, 4 * 4 * 512))"
      ],
      "metadata": {
        "id": "HTTBd0cSI9OK"
      },
      "execution_count": 5,
      "outputs": []
    },
    {
      "cell_type": "code",
      "source": [
        "from keras import models, layers \n",
        "from tensorflow.keras import optimizers \n",
        "\n",
        "model = models.Sequential()\n",
        "model.add(layers.Dense(512, activation='relu', input_dim = 4 * 4 * 512))\n",
        "model.add(layers.Dropout(0.5))\n",
        "model.add(layers.Dense(128, activation='relu'))\n",
        "model.add(layers.Dropout(0.5))\n",
        "model.add(layers.Dense(64, activation='relu'))\n",
        "model.add(layers.Dropout(0.2))\n",
        "model.add(layers.Dense(1, activation='sigmoid'))\n",
        "\n",
        "model.compile(optimizer=optimizers.Adam(lr=1e-3), \n",
        "              loss = 'binary_crossentropy', metrics = ['accuracy'])\n",
        "model.summary()"
      ],
      "metadata": {
        "colab": {
          "base_uri": "https://localhost:8080/"
        },
        "id": "AVv8BhJyJygG",
        "outputId": "a9ec4920-e9fb-4a3c-ad7a-fc00c3477e24"
      },
      "execution_count": 48,
      "outputs": [
        {
          "output_type": "stream",
          "name": "stdout",
          "text": [
            "Model: \"sequential_15\"\n",
            "_________________________________________________________________\n",
            " Layer (type)                Output Shape              Param #   \n",
            "=================================================================\n",
            " dense_53 (Dense)            (None, 512)               4194816   \n",
            "                                                                 \n",
            " dropout_32 (Dropout)        (None, 512)               0         \n",
            "                                                                 \n",
            " dense_54 (Dense)            (None, 128)               65664     \n",
            "                                                                 \n",
            " dropout_33 (Dropout)        (None, 128)               0         \n",
            "                                                                 \n",
            " dense_55 (Dense)            (None, 64)                8256      \n",
            "                                                                 \n",
            " dropout_34 (Dropout)        (None, 64)                0         \n",
            "                                                                 \n",
            " dense_56 (Dense)            (None, 1)                 65        \n",
            "                                                                 \n",
            "=================================================================\n",
            "Total params: 4,268,801\n",
            "Trainable params: 4,268,801\n",
            "Non-trainable params: 0\n",
            "_________________________________________________________________\n"
          ]
        },
        {
          "output_type": "stream",
          "name": "stderr",
          "text": [
            "/usr/local/lib/python3.7/dist-packages/keras/optimizer_v2/adam.py:105: UserWarning: The `lr` argument is deprecated, use `learning_rate` instead.\n",
            "  super(Adam, self).__init__(name, **kwargs)\n"
          ]
        }
      ]
    },
    {
      "cell_type": "code",
      "source": [
        "history = model.fit(\n",
        "    train_features, \n",
        "    train_labels, \n",
        "    epochs=30, \n",
        "    batch_size=20, \n",
        "    validation_data = (validation_features, validation_labels)\n",
        ")"
      ],
      "metadata": {
        "colab": {
          "base_uri": "https://localhost:8080/"
        },
        "id": "hnxuwpWoJ3qp",
        "outputId": "5fa1c834-8650-4a66-d718-3a9f00e00530"
      },
      "execution_count": 44,
      "outputs": [
        {
          "output_type": "stream",
          "name": "stdout",
          "text": [
            "Epoch 1/30\n",
            "11/11 [==============================] - 1s 49ms/step - loss: 6.7655 - accuracy: 0.5509 - val_loss: 6.8791 - val_accuracy: 0.4906\n",
            "Epoch 2/30\n",
            "11/11 [==============================] - 0s 32ms/step - loss: 8.7042 - accuracy: 0.5324 - val_loss: 1.7367 - val_accuracy: 0.6509\n",
            "Epoch 3/30\n",
            "11/11 [==============================] - 0s 34ms/step - loss: 5.6550 - accuracy: 0.5741 - val_loss: 3.5691 - val_accuracy: 0.3774\n",
            "Epoch 4/30\n",
            "11/11 [==============================] - 0s 31ms/step - loss: 4.9343 - accuracy: 0.5463 - val_loss: 0.9707 - val_accuracy: 0.5660\n",
            "Epoch 5/30\n",
            "11/11 [==============================] - 0s 32ms/step - loss: 3.4814 - accuracy: 0.5972 - val_loss: 0.6648 - val_accuracy: 0.6415\n",
            "Epoch 6/30\n",
            "11/11 [==============================] - 0s 33ms/step - loss: 2.5431 - accuracy: 0.6343 - val_loss: 1.2227 - val_accuracy: 0.5189\n",
            "Epoch 7/30\n",
            "11/11 [==============================] - 0s 31ms/step - loss: 3.0503 - accuracy: 0.6111 - val_loss: 0.8035 - val_accuracy: 0.5755\n",
            "Epoch 8/30\n",
            "11/11 [==============================] - 0s 31ms/step - loss: 2.6619 - accuracy: 0.6343 - val_loss: 0.8382 - val_accuracy: 0.6132\n",
            "Epoch 9/30\n",
            "11/11 [==============================] - 0s 34ms/step - loss: 2.1232 - accuracy: 0.6111 - val_loss: 0.7262 - val_accuracy: 0.6321\n",
            "Epoch 10/30\n",
            "11/11 [==============================] - 0s 32ms/step - loss: 1.5090 - accuracy: 0.6713 - val_loss: 0.6843 - val_accuracy: 0.6604\n",
            "Epoch 11/30\n",
            "11/11 [==============================] - 0s 33ms/step - loss: 1.5441 - accuracy: 0.6667 - val_loss: 0.6144 - val_accuracy: 0.6604\n",
            "Epoch 12/30\n",
            "11/11 [==============================] - 0s 32ms/step - loss: 1.4242 - accuracy: 0.6574 - val_loss: 0.6432 - val_accuracy: 0.6132\n",
            "Epoch 13/30\n",
            "11/11 [==============================] - 0s 33ms/step - loss: 1.3750 - accuracy: 0.6481 - val_loss: 0.7396 - val_accuracy: 0.6226\n",
            "Epoch 14/30\n",
            "11/11 [==============================] - 0s 31ms/step - loss: 1.4747 - accuracy: 0.7037 - val_loss: 0.7058 - val_accuracy: 0.5849\n",
            "Epoch 15/30\n",
            "11/11 [==============================] - 0s 32ms/step - loss: 1.0028 - accuracy: 0.7685 - val_loss: 0.6812 - val_accuracy: 0.6509\n",
            "Epoch 16/30\n",
            "11/11 [==============================] - 0s 32ms/step - loss: 1.1748 - accuracy: 0.7593 - val_loss: 0.6832 - val_accuracy: 0.6698\n",
            "Epoch 17/30\n",
            "11/11 [==============================] - 0s 31ms/step - loss: 1.0160 - accuracy: 0.7824 - val_loss: 0.8134 - val_accuracy: 0.6321\n",
            "Epoch 18/30\n",
            "11/11 [==============================] - 0s 33ms/step - loss: 1.1375 - accuracy: 0.7593 - val_loss: 0.7339 - val_accuracy: 0.6604\n",
            "Epoch 19/30\n",
            "11/11 [==============================] - 0s 31ms/step - loss: 0.7329 - accuracy: 0.8009 - val_loss: 0.6729 - val_accuracy: 0.7075\n",
            "Epoch 20/30\n",
            "11/11 [==============================] - 0s 31ms/step - loss: 1.0803 - accuracy: 0.7685 - val_loss: 0.7394 - val_accuracy: 0.6698\n",
            "Epoch 21/30\n",
            "11/11 [==============================] - 0s 32ms/step - loss: 0.7575 - accuracy: 0.7870 - val_loss: 0.7595 - val_accuracy: 0.6604\n",
            "Epoch 22/30\n",
            "11/11 [==============================] - 0s 32ms/step - loss: 0.7770 - accuracy: 0.8102 - val_loss: 0.7424 - val_accuracy: 0.6509\n",
            "Epoch 23/30\n",
            "11/11 [==============================] - 0s 31ms/step - loss: 0.9731 - accuracy: 0.7639 - val_loss: 0.7357 - val_accuracy: 0.6887\n",
            "Epoch 24/30\n",
            "11/11 [==============================] - 0s 32ms/step - loss: 0.6045 - accuracy: 0.8102 - val_loss: 0.7248 - val_accuracy: 0.6887\n",
            "Epoch 25/30\n",
            "11/11 [==============================] - 0s 31ms/step - loss: 0.9521 - accuracy: 0.7685 - val_loss: 0.7508 - val_accuracy: 0.6038\n",
            "Epoch 26/30\n",
            "11/11 [==============================] - 0s 31ms/step - loss: 0.5919 - accuracy: 0.7917 - val_loss: 0.7304 - val_accuracy: 0.6887\n",
            "Epoch 27/30\n",
            "11/11 [==============================] - 0s 32ms/step - loss: 0.7098 - accuracy: 0.8148 - val_loss: 0.7110 - val_accuracy: 0.7170\n",
            "Epoch 28/30\n",
            "11/11 [==============================] - 0s 32ms/step - loss: 0.4751 - accuracy: 0.8657 - val_loss: 1.1538 - val_accuracy: 0.6604\n",
            "Epoch 29/30\n",
            "11/11 [==============================] - 0s 32ms/step - loss: 0.7028 - accuracy: 0.8565 - val_loss: 1.3814 - val_accuracy: 0.6981\n",
            "Epoch 30/30\n",
            "11/11 [==============================] - 0s 34ms/step - loss: 0.7703 - accuracy: 0.8519 - val_loss: 0.9413 - val_accuracy: 0.6981\n"
          ]
        }
      ]
    },
    {
      "cell_type": "code",
      "source": [
        "import matplotlib.pyplot as plt \n",
        "\n",
        "acc = history.history['accuracy']\n",
        "loss = history.history['loss']\n",
        "val_loss = history.history['val_loss']\n",
        "val_acc = history.history['val_accuracy']\n",
        "\n",
        "epochs = [x for x in range(1, len(acc)+1)]\n",
        "\n",
        "plt.plot(epochs, acc, 'r', label='Training Accuracy')\n",
        "plt.plot(epochs, val_acc, 'b', label='Validation Accuracy')\n",
        "plt.title('Training and Validation Accuracy')\n",
        "plt.legend()\n",
        "plt.figure()\n",
        "\n",
        "plt.plot(epochs, loss, 'r', label='Training Loss')\n",
        "plt.plot(epochs, val_loss, 'b', label='Validation Loss')\n",
        "plt.legend()\n",
        "plt.title('Training and Validation loss')\n",
        "plt.show()"
      ],
      "metadata": {
        "colab": {
          "base_uri": "https://localhost:8080/",
          "height": 545
        },
        "id": "OnpCtyyNJ7Hg",
        "outputId": "e617ce19-6dca-442d-95f9-ef589e256650"
      },
      "execution_count": 45,
      "outputs": [
        {
          "output_type": "display_data",
          "data": {
            "text/plain": [
              "<Figure size 432x288 with 1 Axes>"
            ],
            "image/png": "[encoded data removed]"
          },
          "metadata": {
            "needs_background": "light"
          }
        },
        {
          "output_type": "display_data",
          "data": {
            "text/plain": [
              "<Figure size 432x288 with 1 Axes>"
            ],
            "image/png": "[encoded data removed]"
          },
          "metadata": {
            "needs_background": "light"
          }
        }
      ]
    }
  ]
}